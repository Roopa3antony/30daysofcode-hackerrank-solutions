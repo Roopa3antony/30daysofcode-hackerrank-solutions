{
  "nbformat": 4,
  "nbformat_minor": 0,
  "metadata": {
    "colab": {
      "name": "Day 1.ipynb",
      "provenance": [],
      "collapsed_sections": [],
      "authorship_tag": "ABX9TyOpaG8wtBhg6H91g8TH46/m",
      "include_colab_link": true
    },
    "kernelspec": {
      "display_name": "Python 3",
      "name": "python3"
    },
    "language_info": {
      "name": "python"
    }
  },
  "cells": [
    {
      "cell_type": "markdown",
      "metadata": {
        "id": "view-in-github",
        "colab_type": "text"
      },
      "source": [
        "<a href=\"https://colab.research.google.com/github/roopaantony/30daysofcode-hackerrank-solutions/blob/main/Day_1.ipynb\" target=\"_parent\"><img src=\"https://colab.research.google.com/assets/colab-badge.svg\" alt=\"Open In Colab\"/></a>"
      ]
    },
    {
      "cell_type": "code",
      "metadata": {
        "id": "uOEdkNq2J2fF"
      },
      "source": [
        "i = 4\n",
        "d = 4.0\n",
        "s = 'HackerRank '\n",
        "# Declare second integer, double, and String variables.\n",
        "a = int()\n",
        "b = float()\n",
        "c = str()\n",
        "# Read and save an integer, double, and String to your variables.\n",
        "a = int(input())\n",
        "b = float(input())\n",
        "c = input()\n",
        "# Print the sum of both integer variables on a new line.\n",
        "print(i+a)\n",
        "# Print the sum of the double variables on a new line.\n",
        "print(d+b)\n",
        "# Concatenate and print the String variables on a new line\n",
        "print(s+c)\n",
        "# The 's' variable above should be printed first."
      ],
      "execution_count": 5,
      "outputs": []
    },
    {
      "cell_type": "code",
      "metadata": {
        "id": "4oqI1eVWJ8cF"
      },
      "source": [
        "\n"
      ],
      "execution_count": null,
      "outputs": []
    }
  ]
}