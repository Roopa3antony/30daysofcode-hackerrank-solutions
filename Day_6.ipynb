{
  "nbformat": 4,
  "nbformat_minor": 0,
  "metadata": {
    "colab": {
      "name": "Day 6.ipynb",
      "provenance": [],
      "collapsed_sections": [],
      "authorship_tag": "ABX9TyNZMA7b2vWBExGawgssjuh4",
      "include_colab_link": true
    },
    "kernelspec": {
      "display_name": "Python 3",
      "name": "python3"
    },
    "language_info": {
      "name": "python"
    }
  },
  "cells": [
    {
      "cell_type": "markdown",
      "metadata": {
        "id": "view-in-github",
        "colab_type": "text"
      },
      "source": [
        "<a href=\"https://colab.research.google.com/github/roopaantony/30daysofcode-hackerrank-solutions/blob/main/Day_6.ipynb\" target=\"_parent\"><img src=\"https://colab.research.google.com/assets/colab-badge.svg\" alt=\"Open In Colab\"/></a>"
      ]
    },
    {
      "cell_type": "code",
      "metadata": {
        "id": "mGjCgsEHoh_H"
      },
      "source": [
        "# Enter your code here. Read input from STDIN. Print output to STDOUT\n",
        "a = int(input())\n",
        "for i in range(a):\n",
        "  word = input()\n",
        "  print(word[::2], word[1::2])\n",
        "    "
      ],
      "execution_count": null,
      "outputs": []
    }
  ]
}