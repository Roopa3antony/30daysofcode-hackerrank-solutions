{
  "nbformat": 4,
  "nbformat_minor": 0,
  "metadata": {
    "colab": {
      "name": "Day 0.ipynb",
      "provenance": [],
      "collapsed_sections": [],
      "authorship_tag": "ABX9TyNglUewVvwDE5015A3Md1a5",
      "include_colab_link": true
    },
    "kernelspec": {
      "display_name": "Python 3",
      "name": "python3"
    },
    "language_info": {
      "name": "python"
    }
  },
  "cells": [
    {
      "cell_type": "markdown",
      "metadata": {
        "id": "view-in-github",
        "colab_type": "text"
      },
      "source": [
        "<a href=\"https://colab.research.google.com/github/roopaantony/30daysofcode-hackerrank-solutions/blob/main/Day_0.ipynb\" target=\"_parent\"><img src=\"https://colab.research.google.com/assets/colab-badge.svg\" alt=\"Open In Colab\"/></a>"
      ]
    },
    {
      "cell_type": "code",
      "metadata": {
        "id": "61BX1zO3N4qZ"
      },
      "source": [
        "# Read a full line of input from stdin and save it to our dynamically typed variable, input_string.\n",
        "input_string = input()\n",
        "\n",
        "# Print a string literal saying \"Hello, World.\" to stdout.\n",
        "print('Hello, World.')\n",
        "\n",
        "# TODO: Write a line of code here that prints the contents of input_string to stdout.\n",
        "print(\"Welcome to 30 Days of Code!\")\n"
      ],
      "execution_count": null,
      "outputs": []
    }
  ]
}