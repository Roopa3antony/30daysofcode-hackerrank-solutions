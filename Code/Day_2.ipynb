{
  "nbformat": 4,
  "nbformat_minor": 0,
  "metadata": {
    "colab": {
      "name": "Day 0.ipynb",
      "provenance": [],
      "collapsed_sections": [],
      "authorship_tag": "ABX9TyO8HXQjZlAFGc+DvxC4hC6X",
      "include_colab_link": true
    },
    "kernelspec": {
      "display_name": "Python 3",
      "name": "python3"
    },
    "language_info": {
      "name": "python"
    }
  },
  "cells": [
    {
      "cell_type": "markdown",
      "metadata": {
        "id": "view-in-github",
        "colab_type": "text"
      },
      "source": [
        "<a href=\"https://colab.research.google.com/github/roopaantony/30daysofcode-hackerrank-solutions/blob/main/Day_2.ipynb\" target=\"_parent\"><img src=\"https://colab.research.google.com/assets/colab-badge.svg\" alt=\"Open In Colab\"/></a>"
      ]
    },
    {
      "cell_type": "code",
      "metadata": {
        "id": "NruVzuWtOt7s"
      },
      "source": [
        "#!/bin/python3\n",
        "\n",
        "import math\n",
        "import os\n",
        "import random\n",
        "import re\n",
        "import sys\n",
        "\n",
        "#\n",
        "# Complete the 'solve' function below.\n",
        "#\n",
        "# The function accepts following parameters:\n",
        "#  1. DOUBLE meal_cost\n",
        "#  2. INTEGER tip_percent\n",
        "#  3. INTEGER tax_percent\n",
        "#\n",
        "\n",
        "def solve(meal_cost, tip_percent, tax_percent):\n",
        "    total_cost = meal_cost + (meal_cost*tip_percent)/100 + (tax_percent*meal_cost)/100\n",
        "    print(round(total_cost))\n",
        "\n",
        "if __name__ == '__main__':\n",
        "    meal_cost = float(input().strip())\n",
        "\n",
        "    tip_percent = int(input().strip())\n",
        "\n",
        "    tax_percent = int(input().strip())\n",
        "\n",
        "    solve(meal_cost, tip_percent, tax_percent)\n"
      ],
      "execution_count": null,
      "outputs": []
    }
  ]
}
