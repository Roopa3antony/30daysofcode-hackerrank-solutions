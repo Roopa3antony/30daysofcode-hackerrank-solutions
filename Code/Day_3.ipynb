{
  "nbformat": 4,
  "nbformat_minor": 0,
  "metadata": {
    "colab": {
      "name": "Day 3.ipynb",
      "provenance": [],
      "collapsed_sections": [],
      "authorship_tag": "ABX9TyNT55VXdamU1jOoZufLSlL2",
      "include_colab_link": true
    },
    "kernelspec": {
      "display_name": "Python 3",
      "name": "python3"
    },
    "language_info": {
      "name": "python"
    }
  },
  "cells": [
    {
      "cell_type": "markdown",
      "metadata": {
        "id": "view-in-github",
        "colab_type": "text"
      },
      "source": [
        "<a href=\"https://colab.research.google.com/github/roopaantony/30daysofcode-hackerrank-solutions/blob/main/Day_3.ipynb\" target=\"_parent\"><img src=\"https://colab.research.google.com/assets/colab-badge.svg\" alt=\"Open In Colab\"/></a>"
      ]
    },
    {
      "cell_type": "code",
      "metadata": {
        "id": "ELQQIIywTIXC"
      },
      "source": [
        "#!/bin/python3\n",
        "\n",
        "import math\n",
        "import os\n",
        "import random\n",
        "import re\n",
        "import sys\n",
        "\n",
        "\n",
        "\n",
        "if __name__ == '__main__':\n",
        "    N = int(input().strip())\n",
        "if (N%2)!=0:\n",
        "    print(\"Weird\")\n",
        "elif N in range(2,6):\n",
        "    print(\"Not Weird\")\n",
        "elif N in range(6,21):\n",
        "    print(\"Weird\")\n",
        "else:\n",
        "    print(\"Not Weird\")"
      ],
      "execution_count": null,
      "outputs": []
    }
  ]
}
