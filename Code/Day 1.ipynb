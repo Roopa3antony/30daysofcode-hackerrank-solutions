a=4
b=4.0
c="HackerRank "
d=int(input())
e=float(input())
f=(str(input()))
print(a+d)
print(b+e)
print(c+f)
